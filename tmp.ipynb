{
 "cells": [
  {
   "cell_type": "code",
   "execution_count": 1,
   "metadata": {
    "tags": []
   },
   "outputs": [],
   "source": [
    "from argparse import ArgumentParser\n",
    "from pathlib import Path\n",
    "from my_parser import QCISParser\n",
    "from QCIS_instr import QCISOpCode\n",
    "from sympy import pprint, init_printing, latex\n",
    "from kernel import Qsim\n",
    "import configparser\n",
    "\n",
    "\n",
    "def compiler(_prog):\n",
    "    _parser = QCISParser()\n",
    "    success, instructions, names = _parser.parse(data=_prog)\n",
    "    if not success:\n",
    "        print(_parser.error_list)\n",
    "        raise ValueError(\n",
    "            \"QCIS parser failed to compile the given QCIS program.\")\n",
    "\n",
    "    max_qubit = 0\n",
    "    for qubit in names:\n",
    "        max_qubit = max(int(qubit[1:]), max_qubit)\n",
    "\n",
    "    return instructions, max_qubit + 1\n",
    "\n",
    "\n",
    "jupyter = True\n",
    "\n",
    "my_parser = ArgumentParser(description='QCIS simulator system based on symbolic operation')\n",
    "\n",
    "my_parser.add_argument('input', type=str, help='the name of the input QCIS file')\n",
    "\n",
    "my_parser.add_argument('-m', '--mode', required=False, type=str,\n",
    "                       choices=['one_shot', 'final_state'],\n",
    "                       help='the simulation mode used to simulate the given file.'\n",
    "                            ' Default to one_shot.')\n",
    "\n",
    "my_parser.add_argument('-n', '--num_shots', required=False, type=int, default=1,\n",
    "                       help='the number of iterations performed in the `one_shot` mode.')\n",
    "\n",
    "my_parser.add_argument('-N', required=False, type=int, help='the number of qubits in the symbolic simulator')\n",
    "\n",
    "arg_list = None\n",
    "if jupyter:\n",
    "        config = configparser.ConfigParser()\n",
    "        config.read('config.ini')\n",
    "        arg_list = ['test.qcis']\n",
    "        for k, v in config['train'].items():\n",
    "            arg_list.append(\"--\"+k)\n",
    "            arg_list.append(v)\n",
    "\n",
    "args = my_parser.parse_args(arg_list)"
   ]
  },
  {
   "cell_type": "code",
   "execution_count": 1,
   "metadata": {},
   "outputs": [
    {
     "ename": "NameError",
     "evalue": "name 'Path' is not defined",
     "output_type": "error",
     "traceback": [
      "\u001B[1;31m---------------------------------------------------------------------------\u001B[0m",
      "\u001B[1;31mNameError\u001B[0m                                 Traceback (most recent call last)",
      "\u001B[1;32m<ipython-input-1-6294f2ce561d>\u001B[0m in \u001B[0;36m<module>\u001B[1;34m\u001B[0m\n\u001B[1;32m----> 1\u001B[1;33m \u001B[0mqcis_fn\u001B[0m \u001B[1;33m=\u001B[0m \u001B[0mPath\u001B[0m\u001B[1;33m(\u001B[0m\u001B[0margs\u001B[0m\u001B[1;33m.\u001B[0m\u001B[0minput\u001B[0m\u001B[1;33m)\u001B[0m\u001B[1;33m.\u001B[0m\u001B[0mresolve\u001B[0m\u001B[1;33m(\u001B[0m\u001B[1;33m)\u001B[0m\u001B[1;33m\u001B[0m\u001B[1;33m\u001B[0m\u001B[0m\n\u001B[0m\u001B[0;32m      2\u001B[0m \u001B[1;33m\u001B[0m\u001B[0m\n\u001B[0;32m      3\u001B[0m \u001B[1;32mif\u001B[0m \u001B[0mqcis_fn\u001B[0m\u001B[1;33m.\u001B[0m\u001B[0msuffix\u001B[0m \u001B[1;33m!=\u001B[0m \u001B[1;34m'.qcis'\u001B[0m\u001B[1;33m:\u001B[0m\u001B[1;33m\u001B[0m\u001B[1;33m\u001B[0m\u001B[0m\n\u001B[0;32m      4\u001B[0m     raise ValueError(\n\u001B[0;32m      5\u001B[0m         \"Error: the input file name should end with the suffix '.qcis'.\")\n",
      "\u001B[1;31mNameError\u001B[0m: name 'Path' is not defined"
     ]
    }
   ],
   "source": [
    "qcis_fn = Path(args.input).resolve()\n",
    "\n",
    "if qcis_fn.suffix != '.qcis':\n",
    "    raise ValueError(\n",
    "        \"Error: the input file name should end with the suffix '.qcis'.\")\n",
    "\n",
    "if not qcis_fn.exists():\n",
    "    raise ValueError(\"cannot find the given file: {}\".format(qcis_fn))\n",
    "prog = qcis_fn.open('r').read()\n",
    "\n",
    "job_arr, max_q = compiler(prog)\n",
    "\n",
    "if args.N is not None and args.N > max_q:\n",
    "    max_q = args.N\n",
    "\n",
    "Q = Qsim(max_q)\n",
    "Q.state"
   ]
  },
  {
   "cell_type": "code",
   "execution_count": null,
   "metadata": {
    "tags": []
   },
   "outputs": [],
   "source": [
    "for instr in job_arr:\n",
    "    Q.apply_instr(instr)\n",
    "    Q.state"
   ]
  },
  {
   "cell_type": "code",
   "execution_count": null,
   "outputs": [],
   "source": [],
   "metadata": {
    "collapsed": false,
    "pycharm": {
     "name": "#%%\n"
    }
   }
  }
 ],
 "metadata": {
  "interpreter": {
   "hash": "4ba962433ce634cde499a2def155867a3065a4841db75053b162653b9c20e813"
  },
  "kernelspec": {
   "display_name": "Python 3.7.3 64-bit ('base': conda)",
   "name": "python3"
  },
  "language_info": {
   "codemirror_mode": {
    "name": "ipython",
    "version": 3
   },
   "file_extension": ".py",
   "mimetype": "text/x-python",
   "name": "python",
   "nbconvert_exporter": "python",
   "pygments_lexer": "ipython3",
   "version": "3.9.1"
  },
  "orig_nbformat": 2
 },
 "nbformat": 4,
 "nbformat_minor": 2
}