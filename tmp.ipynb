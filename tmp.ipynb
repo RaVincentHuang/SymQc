{
 "cells": [
  {
   "cell_type": "code",
   "execution_count": 16,
   "metadata": {
    "tags": []
   },
   "outputs": [],
   "source": [
    "import sympy\n",
    "from sympy import *\n",
    "from utils import *\n",
    "from gates import *\n",
    "from qbits import *"
   ]
  },
  {
   "cell_type": "code",
   "execution_count": 2,
   "metadata": {
    "tags": []
   },
   "outputs": [],
   "source": [
    "x = gate(1, X)\n",
    "y = gate(1, Y)\n",
    "cnot = gate(2, CNOT)"
   ]
  },
  {
   "cell_type": "code",
   "execution_count": 3,
   "metadata": {},
   "outputs": [],
   "source": [
    "xx = gate_call(x, [2])\n",
    "yy = gate_call(y, [0])\n",
    "ccnot = gate_call(cnot, [1,2])"
   ]
  },
  {
   "cell_type": "code",
   "execution_count": 8,
   "metadata": {},
   "outputs": [
    {
     "name": "stdout",
     "output_type": "stream",
     "text": [
      "⎡0  0   0  0   0  -ⅈ  0  0 ⎤\n",
      "⎢                          ⎥\n",
      "⎢0  0   0  0   ⅈ  0   0  0 ⎥\n",
      "⎢                          ⎥\n",
      "⎢0  0   0  0   0  0   0  -ⅈ⎥\n",
      "⎢                          ⎥\n",
      "⎢0  0   0  0   0  0   ⅈ  0 ⎥\n",
      "⎢                          ⎥\n",
      "⎢0  -ⅈ  0  0   0  0   0  0 ⎥\n",
      "⎢                          ⎥\n",
      "⎢ⅈ  0   0  0   0  0   0  0 ⎥\n",
      "⎢                          ⎥\n",
      "⎢0  0   0  -ⅈ  0  0   0  0 ⎥\n",
      "⎢                          ⎥\n",
      "⎣0  0   ⅈ  0   0  0   0  0 ⎦\n"
     ]
    },
    {
     "data": {
      "text/latex": [
       "$\\displaystyle \\left[\\begin{matrix}0 & 0 & 0 & 0 & 0 & - i & 0 & 0\\\\0 & 0 & 0 & 0 & i & 0 & 0 & 0\\\\0 & 0 & 0 & 0 & 0 & 0 & 0 & - i\\\\0 & 0 & 0 & 0 & 0 & 0 & i & 0\\\\0 & - i & 0 & 0 & 0 & 0 & 0 & 0\\\\i & 0 & 0 & 0 & 0 & 0 & 0 & 0\\\\0 & 0 & 0 & - i & 0 & 0 & 0 & 0\\\\0 & 0 & i & 0 & 0 & 0 & 0 & 0\\end{matrix}\\right]$"
      ],
      "text/plain": [
       "Matrix([\n",
       "[0,  0, 0,  0, 0, -I, 0,  0],\n",
       "[0,  0, 0,  0, I,  0, 0,  0],\n",
       "[0,  0, 0,  0, 0,  0, 0, -I],\n",
       "[0,  0, 0,  0, 0,  0, I,  0],\n",
       "[0, -I, 0,  0, 0,  0, 0,  0],\n",
       "[I,  0, 0,  0, 0,  0, 0,  0],\n",
       "[0,  0, 0, -I, 0,  0, 0,  0],\n",
       "[0,  0, I,  0, 0,  0, 0,  0]])"
      ]
     },
     "execution_count": 8,
     "metadata": {},
     "output_type": "execute_result"
    }
   ],
   "source": [
    "make_U([yy, xx], 3).mat"
   ]
  },
  {
   "cell_type": "code",
   "execution_count": null,
   "metadata": {},
   "outputs": [],
   "source": []
  }
 ],
 "metadata": {
  "interpreter": {
   "hash": "4ba962433ce634cde499a2def155867a3065a4841db75053b162653b9c20e813"
  },
  "kernelspec": {
   "display_name": "Python 3.7.3 64-bit ('base': conda)",
   "name": "python3"
  },
  "language_info": {
   "codemirror_mode": {
    "name": "ipython",
    "version": 3
   },
   "file_extension": ".py",
   "mimetype": "text/x-python",
   "name": "python",
   "nbconvert_exporter": "python",
   "pygments_lexer": "ipython3",
   "version": "3.7.3"
  },
  "orig_nbformat": 2
 },
 "nbformat": 4,
 "nbformat_minor": 2
}
