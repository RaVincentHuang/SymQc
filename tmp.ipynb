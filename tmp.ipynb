{
 "cells": [
  {
   "cell_type": "code",
   "execution_count": 1,
   "metadata": {
    "tags": []
   },
   "outputs": [],
   "source": [
    "from argparse import ArgumentParser\n",
    "from pathlib import Path\n",
    "from my_parser import QCISParser\n",
    "from QCIS_instr import QCISOpCode\n",
    "from sympy import pprint, init_printing, latex\n",
    "from qubit import Qsim\n",
    "import configparser\n",
    "\n",
    "\n",
    "def compiler(_prog):\n",
    "    _parser = QCISParser()\n",
    "    success, instructions, names = _parser.parse(data=_prog)\n",
    "    if not success:\n",
    "        print(_parser.error_list)\n",
    "        raise ValueError(\n",
    "            \"QCIS parser failed to compile the given QCIS program.\")\n",
    "\n",
    "    max_qubit = 0\n",
    "    for qubit in names:\n",
    "        max_qubit = max(int(qubit[1:]), max_qubit)\n",
    "\n",
    "    return instructions, max_qubit + 1\n",
    "\n",
    "\n",
    "jupyter = True\n",
    "\n",
    "my_parser = ArgumentParser(description='QCIS simulator system based on symbolic operation')\n",
    "\n",
    "my_parser.add_argument('input', type=str, help='the name of the input QCIS file')\n",
    "\n",
    "my_parser.add_argument('-m', '--mode', required=False, type=str,\n",
    "                       choices=['one_shot', 'final_state'],\n",
    "                       help='the simulation mode used to simulate the given file.'\n",
    "                            ' Default to one_shot.')\n",
    "\n",
    "my_parser.add_argument('-n', '--num_shots', required=False, type=int, default=1,\n",
    "                       help='the number of iterations performed in the `one_shot` mode.')\n",
    "\n",
    "my_parser.add_argument('-N', required=False, type=int, help='the number of qubits in the symbolic simulator')\n",
    "\n",
    "arg_list = None\n",
    "if jupyter:\n",
    "        config = configparser.ConfigParser()\n",
    "        config.read('config.ini')\n",
    "        arg_list = ['test.qcis']\n",
    "        for k, v in config['train'].items():\n",
    "            arg_list.append(\"--\"+k)\n",
    "            arg_list.append(v)\n",
    "\n",
    "args = my_parser.parse_args(arg_list)"
   ]
  },
  {
   "cell_type": "code",
   "execution_count": 2,
   "metadata": {},
   "outputs": [
    {
     "data": {
      "text/latex": [
       "$\\displaystyle \\left[\\begin{matrix}a_{0}\\\\a_{1}\\\\a_{2}\\\\a_{3}\\\\a_{4}\\\\a_{5}\\\\a_{6}\\\\a_{7}\\\\a_{8}\\\\a_{9}\\\\a_{10}\\\\a_{11}\\\\a_{12}\\\\a_{13}\\\\a_{14}\\\\a_{15}\\\\a_{16}\\\\a_{17}\\\\a_{18}\\\\a_{19}\\\\a_{20}\\\\a_{21}\\\\a_{22}\\\\a_{23}\\\\a_{24}\\\\a_{25}\\\\a_{26}\\\\a_{27}\\\\a_{28}\\\\a_{29}\\\\a_{30}\\\\a_{31}\\\\a_{32}\\\\a_{33}\\\\a_{34}\\\\a_{35}\\\\a_{36}\\\\a_{37}\\\\a_{38}\\\\a_{39}\\\\a_{40}\\\\a_{41}\\\\a_{42}\\\\a_{43}\\\\a_{44}\\\\a_{45}\\\\a_{46}\\\\a_{47}\\\\a_{48}\\\\a_{49}\\\\a_{50}\\\\a_{51}\\\\a_{52}\\\\a_{53}\\\\a_{54}\\\\a_{55}\\\\a_{56}\\\\a_{57}\\\\a_{58}\\\\a_{59}\\\\a_{60}\\\\a_{61}\\\\a_{62}\\\\a_{63}\\end{matrix}\\right]$"
      ],
      "text/plain": [
       "Matrix([\n",
       "[ a0],\n",
       "[ a1],\n",
       "[ a2],\n",
       "[ a3],\n",
       "[ a4],\n",
       "[ a5],\n",
       "[ a6],\n",
       "[ a7],\n",
       "[ a8],\n",
       "[ a9],\n",
       "[a10],\n",
       "[a11],\n",
       "[a12],\n",
       "[a13],\n",
       "[a14],\n",
       "[a15],\n",
       "[a16],\n",
       "[a17],\n",
       "[a18],\n",
       "[a19],\n",
       "[a20],\n",
       "[a21],\n",
       "[a22],\n",
       "[a23],\n",
       "[a24],\n",
       "[a25],\n",
       "[a26],\n",
       "[a27],\n",
       "[a28],\n",
       "[a29],\n",
       "[a30],\n",
       "[a31],\n",
       "[a32],\n",
       "[a33],\n",
       "[a34],\n",
       "[a35],\n",
       "[a36],\n",
       "[a37],\n",
       "[a38],\n",
       "[a39],\n",
       "[a40],\n",
       "[a41],\n",
       "[a42],\n",
       "[a43],\n",
       "[a44],\n",
       "[a45],\n",
       "[a46],\n",
       "[a47],\n",
       "[a48],\n",
       "[a49],\n",
       "[a50],\n",
       "[a51],\n",
       "[a52],\n",
       "[a53],\n",
       "[a54],\n",
       "[a55],\n",
       "[a56],\n",
       "[a57],\n",
       "[a58],\n",
       "[a59],\n",
       "[a60],\n",
       "[a61],\n",
       "[a62],\n",
       "[a63]])"
      ]
     },
     "execution_count": 2,
     "metadata": {},
     "output_type": "execute_result"
    }
   ],
   "source": [
    "qcis_fn = Path(args.input).resolve()\n",
    "\n",
    "if qcis_fn.suffix != '.qcis':\n",
    "    raise ValueError(\n",
    "        \"Error: the input file name should end with the suffix '.qcis'.\")\n",
    "\n",
    "if not qcis_fn.exists():\n",
    "    raise ValueError(\"cannot find the given file: {}\".format(qcis_fn))\n",
    "prog = qcis_fn.open('r').read()\n",
    "\n",
    "job_arr, max_q = compiler(prog)\n",
    "\n",
    "if args.N is not None and args.N > max_q:\n",
    "    max_q = args.N\n",
    "\n",
    "Q = Qsim(max_q)\n",
    "Q.state"
   ]
  },
  {
   "cell_type": "code",
   "execution_count": 3,
   "metadata": {
    "tags": []
   },
   "outputs": [],
   "source": [
    "for instr in job_arr:\n",
    "    Q.apply_instr(instr)\n",
    "    Q.state"
   ]
  }
 ],
 "metadata": {
  "interpreter": {
   "hash": "4ba962433ce634cde499a2def155867a3065a4841db75053b162653b9c20e813"
  },
  "kernelspec": {
   "display_name": "Python 3.7.3 64-bit ('base': conda)",
   "name": "python3"
  },
  "language_info": {
   "codemirror_mode": {
    "name": "ipython",
    "version": 3
   },
   "file_extension": ".py",
   "mimetype": "text/x-python",
   "name": "python",
   "nbconvert_exporter": "python",
   "pygments_lexer": "ipython3",
   "version": "3.9.1"
  },
  "orig_nbformat": 2
 },
 "nbformat": 4,
 "nbformat_minor": 2
}
