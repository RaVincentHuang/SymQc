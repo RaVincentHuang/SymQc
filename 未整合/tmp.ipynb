{
 "cells": [
  {
   "cell_type": "code",
   "execution_count": 1,
   "metadata": {},
   "outputs": [],
   "source": [
    "from qubits import *\n",
    "import sympy as sy\n",
    "import cmath as cm\n"
   ]
  },
  {
   "cell_type": "code",
   "execution_count": 2,
   "metadata": {},
   "outputs": [],
   "source": [
    "X = Gate(1, sy.Matrix([[0, 1],[1, 0]]))\n",
    "Y = Gate(1, sy.Matrix([[0, -sy.I], [sy.I, 0]]))\n",
    "Z = Gate(1, sy.Matrix([[1, 0], [0, -1]]))\n",
    "H = Gate(1, sy.Matrix([[ 1/sy.sqrt(2),  1/sy.sqrt(2)], [ 1/sy.sqrt(2), - 1/sy.sqrt(2)]]))\n",
    "S = Gate(1, sy.Matrix([[1, 0], [0, 1j]]))\n",
    "T = Gate(1, sy.Matrix([[1, 0], [0, sy.E ** (sy.pi*sy.I/4)]]))\n",
    "\n",
    "CNOT = Gate(1, sy.Matrix([[0, 1],[1, 0]]), 1)\n",
    "CZ = Gate(1, sy.Matrix([[1, 0], [0, -1]]), 1)\n",
    "\n",
    "Q = Qsim(2)\n"
   ]
  },
  {
   "cell_type": "code",
   "execution_count": 3,
   "metadata": {},
   "outputs": [
    {
     "data": {
      "text/latex": [
       "$\\displaystyle \\left[\\begin{matrix}\\frac{\\sqrt{2} a_{0}}{2} + \\frac{\\sqrt{2} a_{2}}{2}\\\\\\left(\\frac{\\sqrt{2} a_{1}}{2} - \\frac{\\sqrt{2} a_{3}}{2}\\right) e^{\\frac{i \\pi}{4}}\\\\\\frac{\\sqrt{2} a_{0}}{2} - \\frac{\\sqrt{2} a_{2}}{2}\\\\\\left(\\frac{\\sqrt{2} a_{1}}{2} + \\frac{\\sqrt{2} a_{3}}{2}\\right) e^{\\frac{i \\pi}{4}}\\end{matrix}\\right]$"
      ],
      "text/plain": [
       "Matrix([\n",
       "[              sqrt(2)*a0/2 + sqrt(2)*a2/2],\n",
       "[(sqrt(2)*a1/2 - sqrt(2)*a3/2)*exp(I*pi/4)],\n",
       "[              sqrt(2)*a0/2 - sqrt(2)*a2/2],\n",
       "[(sqrt(2)*a1/2 + sqrt(2)*a3/2)*exp(I*pi/4)]])"
      ]
     },
     "execution_count": 3,
     "metadata": {},
     "output_type": "execute_result"
    }
   ],
   "source": [
    "Q.apply_gate(H, [1])\n",
    "Q.apply_gate(CNOT, [1], [0])\n",
    "Q.apply_gate(T, [0])"
   ]
  }
 ],
 "metadata": {
  "kernelspec": {
   "display_name": "Python 3.7.7 64-bit",
   "metadata": {
    "interpreter": {
     "hash": "ef0b6e2b84476e2c8984399bc5cf0e2ca595ee32e042622fe28ecb3b13c5e79a"
    }
   },
   "name": "python3"
  },
  "language_info": {
   "codemirror_mode": {
    "name": "ipython",
    "version": 3
   },
   "file_extension": ".py",
   "mimetype": "text/x-python",
   "name": "python",
   "nbconvert_exporter": "python",
   "pygments_lexer": "ipython3",
   "version": "3.7.3"
  },
  "orig_nbformat": 2
 },
 "nbformat": 4,
 "nbformat_minor": 2
}
